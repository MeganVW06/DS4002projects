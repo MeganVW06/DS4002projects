import pandas as pd


df = pd.read_excel("/Users/vaibhavjha/DS4002projects/preambles_data.xlsx")


df.head(10)
